{
 "cells": [
  {
   "cell_type": "markdown",
   "metadata": {},
   "source": [
    "# **Finding Lane Lines on the Road** \n",
    "\n",
    "## Methodology\n",
    "The goal of this project was to use a basic computer vision approach to identifying lane lines on a video stream recorded from a front-facing camera mounted on a vehicle.  The aproach that I took for this project was as follows:\n",
    "\n",
    "1. Convert the video frame to graycale.\n",
    "2. Apply a Gaussian Filter to blur the image and remove some noise.\n",
    "3. Perform Canny edge detection to identify all edges\n",
    "4. Apply an image mask to filter out everything besides the lane lines immediately to the right and left of the vehicle.\n",
    "5. Perfom a Hough transform to get the hough lines in te form of (slope, intercept).\n",
    "6. Filter out any lines that we know are not lane lines (ie. have a slope that is very high or very low corresponging to near vertical and near horizontal lines, respectively).\n",
    "7. Separate the left and right lane lines (neative slope represents the left lane line and positive slope represents the right lane line)\n",
    "8. Calculate a line for each the right and the left lane markings in the form of (slope, intercept) - I did this by calculating a weighted average of all left lines and then all right lines.  They were weighted according to their - the loger the line, the more it contributes to the average.\n",
    "9. Extrapolate the lines from the bottom of the image to nearly the middle of the image on the y-axis.\n",
    "10. Draw the average/extrapolated lines over the original image with a 60% opacity.\n",
    "\n",
    "## Shortcomings\n",
    "hough my algorithm works very well on the first two videos, the challenge video revealed some issues. First, the algorithm is not very robust to changes in pavement color. Light pavement causes the algorithm to lose track of the lane lines because the edge detection thresholds are a little high – however lowering the thresholds adds a lot of lines that are not lane markings. I tried to filter a lot of these out by setting upper and lower thresholds on the slope of accepted lines. This succeeded in filtering out a lot of the “noisy” lines that were nearly vertical or horizontal. Also camera placement was an issue in the challenge video. I needed to change the region of interest to cut out the front of the vehicle. Finally, I used a simple method to fit a linear lane detection line. This only matches the lane markings up to a certain point and does not follow the curve correctly. Also, vehicles dive in all different conditions, to water or snow on the would would definitely adversely affect this algorithm. Also, none of the videos contained another vehicle a short distance ahead of the data collection vehicle, so this may obscure the lane lines and cause an issue."
   ]
  },
  {
   "cell_type": "code",
   "execution_count": null,
   "metadata": {},
   "outputs": [],
   "source": []
  }
 ],
 "metadata": {
  "kernelspec": {
   "display_name": "Python 3",
   "language": "python",
   "name": "python3"
  },
  "language_info": {
   "codemirror_mode": {
    "name": "ipython",
    "version": 3
   },
   "file_extension": ".py",
   "mimetype": "text/x-python",
   "name": "python",
   "nbconvert_exporter": "python",
   "pygments_lexer": "ipython3",
   "version": "3.5.2"
  },
  "widgets": {
   "state": {},
   "version": "1.1.2"
  }
 },
 "nbformat": 4,
 "nbformat_minor": 2
}
